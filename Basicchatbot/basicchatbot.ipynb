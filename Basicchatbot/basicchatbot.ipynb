{
 "cells": [
  {
   "cell_type": "markdown",
   "id": "844042c8",
   "metadata": {},
   "source": [
    "## Building chatbot with Langgraph (Graph api)"
   ]
  },
  {
   "cell_type": "code",
   "execution_count": 4,
   "id": "40388728",
   "metadata": {},
   "outputs": [],
   "source": [
    "from typing import Annotated\n",
    "from typing_extensions import TypedDict\n",
    "from langgraph.graph import StateGraph, START, END\n",
    "from langgraph.graph.message import add_messages\n",
    "#add_messages is ussed to add messages not replace the existing ones in any kind variable that we define (those are reducers)"
   ]
  },
  {
   "cell_type": "code",
   "execution_count": 5,
   "id": "0fc3d534",
   "metadata": {},
   "outputs": [],
   "source": [
    "class state(TypedDict):\n",
    "    messages: Annotated[list,add_messages]\n",
    "\n",
    "graph_builder=StateGraph(state)\n"
   ]
  },
  {
   "cell_type": "code",
   "execution_count": null,
   "id": "122d04b0",
   "metadata": {},
   "outputs": [
    {
     "data": {
      "text/plain": [
       "<langgraph.graph.state.StateGraph at 0x1090c0d50>"
      ]
     },
     "execution_count": 6,
     "metadata": {},
     "output_type": "execute_result"
    }
   ],
   "source": []
  }
 ],
 "metadata": {
  "kernelspec": {
   "display_name": "agenticlanggraph",
   "language": "python",
   "name": "python3"
  },
  "language_info": {
   "codemirror_mode": {
    "name": "ipython",
    "version": 3
   },
   "file_extension": ".py",
   "mimetype": "text/x-python",
   "name": "python",
   "nbconvert_exporter": "python",
   "pygments_lexer": "ipython3",
   "version": "3.11.0"
  }
 },
 "nbformat": 4,
 "nbformat_minor": 5
}
