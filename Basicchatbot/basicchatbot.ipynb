{
 "cells": [
  {
   "cell_type": "markdown",
   "id": "844042c8",
   "metadata": {},
   "source": [
    "# Building chatbot with Langgraph (Graph api)"
   ]
  },
  {
   "cell_type": "code",
   "execution_count": 1,
   "id": "40388728",
   "metadata": {},
   "outputs": [],
   "source": [
    "from typing import Annotated\n",
    "from typing_extensions import TypedDict\n",
    "from langgraph.graph import StateGraph, START, END\n",
    "from langgraph.graph.message import add_messages\n"
   ]
  },
  {
   "cell_type": "code",
   "execution_count": 3,
   "id": "0fc3d534",
   "metadata": {},
   "outputs": [],
   "source": [
    "class State(TypedDict):\n",
    "    messages: Annotated[list,add_messages]\n",
    "\n",
    "graph_builder=StateGraph(State)\n"
   ]
  },
  {
   "cell_type": "code",
   "execution_count": 4,
   "id": "122d04b0",
   "metadata": {},
   "outputs": [
    {
     "data": {
      "text/plain": [
       "True"
      ]
     },
     "execution_count": 4,
     "metadata": {},
     "output_type": "execute_result"
    }
   ],
   "source": [
    "import os\n",
    "from dotenv import load_dotenv\n",
    "load_dotenv()\n"
   ]
  },
  {
   "cell_type": "code",
   "execution_count": 5,
   "id": "d5823f6f",
   "metadata": {},
   "outputs": [
    {
     "data": {
      "text/plain": [
       "ChatGroq(client=<groq.resources.chat.completions.Completions object at 0x10680e190>, async_client=<groq.resources.chat.completions.AsyncCompletions object at 0x106a4a510>, model_name='llama3-8b-8192', model_kwargs={}, groq_api_key=SecretStr('**********'))"
      ]
     },
     "execution_count": 5,
     "metadata": {},
     "output_type": "execute_result"
    }
   ],
   "source": [
    "from langchain_groq import ChatGroq\n",
    "from langchain.chat_models import init_chat_model\n",
    "\n",
    "llm = ChatGroq (model='llama3-8b-8192')\n",
    "llm"
   ]
  },
  {
   "cell_type": "code",
   "execution_count": 6,
   "id": "3050f3cb",
   "metadata": {},
   "outputs": [],
   "source": [
    "def chatbot(state: State):\n",
    "    return {\"messages\": [llm.invoke(state['messages'])]}"
   ]
  },
  {
   "cell_type": "code",
   "execution_count": 7,
   "id": "30d1f81e",
   "metadata": {},
   "outputs": [],
   "source": [
    "graph_builder = StateGraph(State)\n",
    "\n",
    "graph_builder.add_node(\"llmagent\", chatbot)\n",
    "\n",
    "graph_builder.add_edge(START, \"llmagent\")\n",
    "graph_builder.add_edge(\"llmagent\", END)\n",
    "\n",
    "graph = graph_builder.compile()\n",
    "\n"
   ]
  },
  {
   "cell_type": "code",
   "execution_count": 8,
   "id": "8cec7d84",
   "metadata": {},
   "outputs": [
    {
     "data": {
      "image/png": "[encoded data removed]",
      "text/plain": [
       "<IPython.core.display.Image object>"
      ]
     },
     "metadata": {},
     "output_type": "display_data"
    }
   ],
   "source": [
    "from IPython.display import Image, display\n",
    "\n",
    "try:\n",
    "    display(Image(graph.get_graph().draw_mermaid_png()))\n",
    "except Exception:\n",
    "    pass\n"
   ]
  },
  {
   "cell_type": "code",
   "execution_count": 9,
   "id": "eed592a6",
   "metadata": {},
   "outputs": [
    {
     "data": {
      "text/plain": [
       "\"Hello! It's nice to meet you. Is there something I can help you with, or would you like to chat?\""
      ]
     },
     "execution_count": 9,
     "metadata": {},
     "output_type": "execute_result"
    }
   ],
   "source": [
    "response = graph.invoke({\"messages\": [\"Hello!\"]})\n",
    "response[\"messages\"][-1].content"
   ]
  },
  {
   "cell_type": "markdown",
   "id": "c0005e00",
   "metadata": {},
   "source": [
    "## Adding Tools"
   ]
  },
  {
   "cell_type": "code",
   "execution_count": 10,
   "id": "31f70d1c",
   "metadata": {},
   "outputs": [
    {
     "data": {
      "text/plain": [
       "{'query': 'what is langgraph?',\n",
       " 'follow_up_questions': None,\n",
       " 'answer': None,\n",
       " 'images': [],\n",
       " 'results': [{'url': 'https://www.datacamp.com/tutorial/langgraph-tutorial',\n",
       "   'title': 'LangGraph Tutorial: What Is LangGraph and How to Use It?',\n",
       "   'content': 'LangGraph is a library within the LangChain ecosystem that provides a framework for defining, coordinating, and executing multiple LLM agents (or chains) in a structured and efficient manner. By managing the flow of data and the sequence of operations, LangGraph allows developers to focus on the high-level logic of their applications rather than the intricacies of agent coordination. Whether you need a chatbot that can handle various types of user requests or a multi-agent system that performs complex tasks, LangGraph provides the tools to build exactly what you need. LangGraph significantly simplifies the development of complex LLM applications by providing a structured framework for managing state and coordinating agent interactions.',\n",
       "   'score': 0.9446333,\n",
       "   'raw_content': None},\n",
       "  {'url': 'https://www.ibm.com/think/topics/langgraph',\n",
       "   'title': 'What is LangGraph? - IBM',\n",
       "   'content': 'LangGraph, created by LangChain, is an open source AI agent framework designed to build, deploy and manage complex generative AI agent workflows. At its core, LangGraph uses the power of graph-based architectures to model and manage the intricate relationships between various components of an AI agent workflow. LangGraph illuminates the processes within an AI workflow, allowing full transparency of the agent’s state. By combining these technologies with a set of APIs and tools, LangGraph provides users with a versatile platform for developing AI solutions and workflows including chatbots, state graphs and other agent-based systems. Nodes: In LangGraph, nodes represent individual components or agents within an AI workflow. LangGraph uses enhanced decision-making by modeling complex relationships between nodes, which means it uses AI agents to analyze their past actions and feedback.',\n",
       "   'score': 0.93844646,\n",
       "   'raw_content': None}],\n",
       " 'response_time': 1.55,\n",
       " 'request_id': '3e67eb96-205a-47df-a719-14d931cbb2fa'}"
      ]
     },
     "execution_count": 10,
     "metadata": {},
     "output_type": "execute_result"
    }
   ],
   "source": [
    "from langchain_tavily import TavilySearch\n",
    "tool = TavilySearch(max_results=2)\n",
    "tool.invoke(\"what is langgraph?\")\n"
   ]
  },
  {
   "cell_type": "code",
   "execution_count": 11,
   "id": "3e895714",
   "metadata": {},
   "outputs": [],
   "source": [
    "def multiply(a: int, b: int) -> int:\n",
    "    \"\"\"Multiply two numbers\n",
    "    \n",
    "    Args:\n",
    "        a (int): The first number\n",
    "        b (int): The second number\n",
    "        \n",
    "    Returns:\n",
    "        int: The product of the two numbers\n",
    "    \"\"\"\n",
    "    return a * b\n",
    "\n"
   ]
  },
  {
   "cell_type": "code",
   "execution_count": 12,
   "id": "2165443c",
   "metadata": {},
   "outputs": [
    {
     "data": {
      "text/plain": [
       "[TavilySearch(max_results=2, api_wrapper=TavilySearchAPIWrapper(tavily_api_key=SecretStr('**********'), api_base_url=None)),\n",
       " <function __main__.multiply(a: int, b: int) -> int>]"
      ]
     },
     "execution_count": 12,
     "metadata": {},
     "output_type": "execute_result"
    }
   ],
   "source": [
    "tools = [tool, multiply]\n",
    "tools\n"
   ]
  },
  {
   "cell_type": "code",
   "execution_count": 13,
   "id": "3c35eb8d",
   "metadata": {},
   "outputs": [
    {
     "data": {
      "text/plain": [
       "RunnableBinding(bound=ChatGroq(client=<groq.resources.chat.completions.Completions object at 0x10680e190>, async_client=<groq.resources.chat.completions.AsyncCompletions object at 0x106a4a510>, model_name='llama3-8b-8192', model_kwargs={}, groq_api_key=SecretStr('**********')), kwargs={'tools': [{'type': 'function', 'function': {'name': 'tavily_search', 'description': 'A search engine optimized for comprehensive, accurate, and trusted results. Useful for when you need to answer questions about current events. It not only retrieves URLs and snippets, but offers advanced search depths, domain management, time range filters, and image search, this tool delivers real-time, accurate, and citation-backed results.Input should be a search query.', 'parameters': {'properties': {'query': {'description': 'Search query to look up', 'type': 'string'}, 'include_domains': {'anyOf': [{'items': {'type': 'string'}, 'type': 'array'}, {'type': 'null'}], 'default': [], 'description': 'A list of domains to restrict search results to.\\n\\n        Use this parameter when:\\n        1. The user explicitly requests information from specific websites (e.g., \"Find climate data from nasa.gov\")\\n        2. The user mentions an organization or company without specifying the domain (e.g., \"Find information about iPhones from Apple\")\\n\\n        In both cases, you should determine the appropriate domains (e.g., [\"nasa.gov\"] or [\"apple.com\"]) and set this parameter.\\n\\n        Results will ONLY come from the specified domains - no other sources will be included.\\n        Default is None (no domain restriction).\\n        '}, 'exclude_domains': {'anyOf': [{'items': {'type': 'string'}, 'type': 'array'}, {'type': 'null'}], 'default': [], 'description': 'A list of domains to exclude from search results.\\n\\n        Use this parameter when:\\n        1. The user explicitly requests to avoid certain websites (e.g., \"Find information about climate change but not from twitter.com\")\\n        2. The user mentions not wanting results from specific organizations without naming the domain (e.g., \"Find phone reviews but nothing from Apple\")\\n\\n        In both cases, you should determine the appropriate domains to exclude (e.g., [\"twitter.com\"] or [\"apple.com\"]) and set this parameter.\\n\\n        Results will filter out all content from the specified domains.\\n        Default is None (no domain exclusion).\\n        '}, 'search_depth': {'anyOf': [{'enum': ['basic', 'advanced'], 'type': 'string'}, {'type': 'null'}], 'default': 'basic', 'description': 'Controls search thoroughness and result comprehensiveness.\\n    \\n        Use \"basic\" for simple queries requiring quick, straightforward answers.\\n        \\n        Use \"advanced\" (default) for complex queries, specialized topics, \\n        rare information, or when in-depth analysis is needed.\\n        '}, 'include_images': {'anyOf': [{'type': 'boolean'}, {'type': 'null'}], 'default': False, 'description': 'Determines if the search returns relevant images along with text results.\\n   \\n        Set to True when the user explicitly requests visuals or when images would \\n        significantly enhance understanding (e.g., \"Show me what black holes look like,\" \\n        \"Find pictures of Renaissance art\").\\n        \\n        Leave as False (default) for most informational queries where text is sufficient.\\n        '}, 'time_range': {'anyOf': [{'enum': ['day', 'week', 'month', 'year'], 'type': 'string'}, {'type': 'null'}], 'default': None, 'description': 'Limits results to content published within a specific timeframe.\\n        \\n        ONLY set this when the user explicitly mentions a time period \\n        (e.g., \"latest AI news,\" \"articles from last week\").\\n        \\n        For less popular or niche topics, use broader time ranges \\n        (\"month\" or \"year\") to ensure sufficient relevant results.\\n   \\n        Options: \"day\" (24h), \"week\" (7d), \"month\" (30d), \"year\" (365d).\\n        \\n        Default is None.\\n        '}, 'topic': {'anyOf': [{'enum': ['general', 'news', 'finance'], 'type': 'string'}, {'type': 'null'}], 'default': 'general', 'description': 'Specifies search category for optimized results.\\n   \\n        Use \"general\" (default) for most queries, INCLUDING those with terms like \\n        \"latest,\" \"newest,\" or \"recent\" when referring to general information.\\n\\n        Use \"finance\" for markets, investments, economic data, or financial news.\\n\\n        Use \"news\" ONLY for politics, sports, or major current events covered by \\n        mainstream media - NOT simply because a query asks for \"new\" information.\\n        '}, 'include_favicon': {'anyOf': [{'type': 'boolean'}, {'type': 'null'}], 'default': False, 'description': \"Determines whether to include favicon URLs for each search result.\\n        \\n        When enabled, each search result will include the website's favicon URL,\\n        which can be useful for:\\n        - Building rich UI interfaces with visual website indicators\\n        - Providing visual cues about the source's credibility or brand\\n        - Creating bookmark-like displays with recognizable site icons\\n        \\n        Set to True when creating user interfaces that benefit from visual branding\\n        or when favicon information enhances the user experience.\\n        \\n        Default is False to minimize response size and API usage.\\n        \"}, 'start_date': {'anyOf': [{'type': 'string'}, {'type': 'null'}], 'default': None, 'description': 'Filters search results to include only content published on or after this date.\\n        \\n        Use this parameter when you need to:\\n        - Find recent developments or updates on a topic\\n        - Exclude outdated information from search results\\n        - Focus on content within a specific timeframe\\n        - Combine with end_date to create a custom date range\\n        \\n        Format must be YYYY-MM-DD (e.g., \"2024-01-15\" for January 15, 2024).\\n        \\n        Examples:\\n        - \"2024-01-01\" - Results from January 1, 2024 onwards\\n        - \"2023-12-25\" - Results from December 25, 2023 onwards\\n        \\n        When combined with end_date, creates a precise date range filter.\\n        \\n        Default is None (no start date restriction).\\n        '}, 'end_date': {'anyOf': [{'type': 'string'}, {'type': 'null'}], 'default': None, 'description': 'Filters search results to include only content published on or before this date.\\n        \\n        Use this parameter when you need to:\\n        - Exclude content published after a certain date\\n        - Study historical information or past events\\n        - Research how topics were covered during specific time periods\\n        - Combine with start_date to create a custom date range\\n        \\n        Format must be YYYY-MM-DD (e.g., \"2024-03-31\" for March 31, 2024).\\n        \\n        Examples:\\n        - \"2024-03-31\" - Results up to and including March 31, 2024\\n        - \"2023-12-31\" - Results up to and including December 31, 2023\\n        \\n        When combined with start_date, creates a precise date range filter.\\n        For example: start_date=\"2024-01-01\", end_date=\"2024-03-31\" \\n        returns results from Q1 2024 only.\\n        \\n        Default is None (no end date restriction).\\n        '}}, 'required': ['query'], 'type': 'object'}}}, {'type': 'function', 'function': {'name': 'multiply', 'description': 'Multiply two numbers', 'parameters': {'properties': {'a': {'description': 'The first number', 'type': 'integer'}, 'b': {'description': 'The second number', 'type': 'integer'}}, 'required': ['a', 'b'], 'type': 'object'}}}]}, config={}, config_factories=[])"
      ]
     },
     "execution_count": 13,
     "metadata": {},
     "output_type": "execute_result"
    }
   ],
   "source": [
    "llm_tools = llm.bind_tools(tools)\n",
    "llm_tools"
   ]
  },
  {
   "cell_type": "code",
   "execution_count": 14,
   "id": "54e1abcc",
   "metadata": {},
   "outputs": [
    {
     "data": {
      "image/png": "[encoded data removed]",
      "text/plain": [
       "<IPython.core.display.Image object>"
      ]
     },
     "metadata": {},
     "output_type": "display_data"
    }
   ],
   "source": [
    "from langgraph.graph import StateGraph,START,END\n",
    "from langgraph.prebuilt import ToolNode\n",
    "from langgraph.prebuilt import tools_condition \n",
    "\n",
    "def tool_calling_llm(state:State):\n",
    "    return {\"messages\": [llm_tools.invoke(state['messages'])]}\n",
    "\n",
    "builder = StateGraph(State)\n",
    "builder.add_node(\"tool_calling_llm\",tool_calling_llm)\n",
    "builder.add_node(\"tools\",ToolNode(tools))\n",
    "\n",
    "builder.add_edge(START, \"tool_calling_llm\")\n",
    "builder.add_conditional_edges(\n",
    "    \"tool_calling_llm\",\n",
    "    tools_condition\n",
    ")\n",
    "\n",
    "builder.add_edge(\"tools\", END)\n",
    "\n",
    "graph = builder.compile()\n",
    "\n",
    "display(Image(graph.get_graph().draw_mermaid_png()))"
   ]
  },
  {
   "cell_type": "code",
   "execution_count": 15,
   "id": "0db49c7c",
   "metadata": {},
   "outputs": [],
   "source": [
    "response = graph.invoke({\"messages\": [\"What is the recent ai news?\"]})\n"
   ]
  },
  {
   "cell_type": "code",
   "execution_count": 16,
   "id": "ed4829bc",
   "metadata": {},
   "outputs": [
    {
     "data": {
      "text/plain": [
       "'{\"query\": \"recent ai news\", \"follow_up_questions\": null, \"answer\": null, \"images\": [], \"results\": [{\"url\": \"https://www.reuters.com/world/us/americans-fear-ai-permanently-displacing-workers-reutersipsos-poll-finds-2025-08-19/\", \"title\": \"Americans fear AI permanently displacing workers, Reuters/Ipsos poll finds - Reuters\", \"score\": 0.6821721, \"published_date\": \"Tue, 19 Aug 2025 10:34:37 GMT\", \"content\": \"Technology leaders attend a generative AI (Artificial Intelligence) meeting in San Francisco, in California, U.S., June 29, 2023. REUTERS/Carlos Barria/File Photo Purchase Licensing Rights, opens new tab\\\\n\\\\n   Summary\\\\n   Companies\\\\n\\\\n   Seventy-one percent fear AI causing permanent job loss, Reuters/Ipsos poll shows\\\\n   Seventy-seven percent worry AI could be used by rivals to incite political chaos, poll indicates\\\\n   Forty-eight percent oppose AI in military targeting, 24% support it [...] The new technology burst into the national conversation in late 2022 when OpenAI\\'s ChatGPT chatbot launched and became the fastest-growing application of all time, with tech heavyweights like Facebook owner Meta Platforms (META.O), opens new tab, Google owner Alphabet (GOOGL.O), opens new tab and Microsoft (MSFT.O), opens new tab offering their own AI products.\\\\n\\\\nAdvertisement · Scroll to continue [...] Google said earlier this month it had signed agreements with two U.S. electric utilities to reduce its AI data center power consumption during times of surging demand on the grid, as energy-intensive AI use outpaces power supplies.\\\\n\\\\nThe new technology has also come under criticism for applications that have let AI bots hold romantic conversations with children, generate false medical information and help people make racist arguments.\", \"raw_content\": null}, {\"url\": \"https://fortune.com/2025/08/14/startup-down-rounds-are-at-a-ten-year-high-according-to-pitchbook-data/\", \"title\": \"Startup down rounds are at a ten-year high, according to PitchBook data - Fortune\", \"score\": 0.6721816, \"published_date\": \"Thu, 14 Aug 2025 10:09:00 GMT\", \"content\": \"- Thread, a New York City-based developer of an AI service desk for managed service providers, raised $8 million in funding. Integr8dCapital and DavidBellini led the round and were joined by Headline, AdamSlutskin, VinceKent, and others.\\\\n\\\\n- InfinityLoop, a New York City-based AI-powered contract intelligence platform, raised $5 million in seed funding. GlasswingVentures and TIAAVentures led the round and were joined by PlugandPlay,Restive Ventures, and angel investors. [...] - Protege, a New York City-based developer of data sets designed for AI training, raised $25 million in Series A funding. Footwork led the round and was joined by CRV, BloombergBeta, Flex Capital,Liquid 2 Ventures, ShaperCapital, and others.\\\\n\\\\n- Evertune, a New York City-based AI marketing platform, raised $15 million in Series A funding. FelicisVentures led the round and was joined by EniacVentures, NextViewVentures, and angel investors.\", \"raw_content\": null}], \"response_time\": 1.19, \"request_id\": \"74a53e87-d0fa-475a-befe-a3936ff9e44f\"}'"
      ]
     },
     "execution_count": 16,
     "metadata": {},
     "output_type": "execute_result"
    }
   ],
   "source": [
    "response[\"messages\"][-1].content"
   ]
  },
  {
   "cell_type": "code",
   "execution_count": 17,
   "id": "4ff0d109",
   "metadata": {},
   "outputs": [
    {
     "name": "stdout",
     "output_type": "stream",
     "text": [
      "================================\u001b[1m Human Message \u001b[0m=================================\n",
      "\n",
      "What is the recent ai news?\n",
      "==================================\u001b[1m Ai Message \u001b[0m==================================\n",
      "Tool Calls:\n",
      "  tavily_search (1x03d67sp)\n",
      " Call ID: 1x03d67sp\n",
      "  Args:\n",
      "    query: recent ai news\n",
      "    search_depth: advanced\n",
      "    topic: news\n",
      "=================================\u001b[1m Tool Message \u001b[0m=================================\n",
      "Name: tavily_search\n",
      "\n",
      "{\"query\": \"recent ai news\", \"follow_up_questions\": null, \"answer\": null, \"images\": [], \"results\": [{\"url\": \"https://www.reuters.com/world/us/americans-fear-ai-permanently-displacing-workers-reutersipsos-poll-finds-2025-08-19/\", \"title\": \"Americans fear AI permanently displacing workers, Reuters/Ipsos poll finds - Reuters\", \"score\": 0.6821721, \"published_date\": \"Tue, 19 Aug 2025 10:34:37 GMT\", \"content\": \"Technology leaders attend a generative AI (Artificial Intelligence) meeting in San Francisco, in California, U.S., June 29, 2023. REUTERS/Carlos Barria/File Photo Purchase Licensing Rights, opens new tab\\n\\n   Summary\\n   Companies\\n\\n   Seventy-one percent fear AI causing permanent job loss, Reuters/Ipsos poll shows\\n   Seventy-seven percent worry AI could be used by rivals to incite political chaos, poll indicates\\n   Forty-eight percent oppose AI in military targeting, 24% support it [...] The new technology burst into the national conversation in late 2022 when OpenAI's ChatGPT chatbot launched and became the fastest-growing application of all time, with tech heavyweights like Facebook owner Meta Platforms (META.O), opens new tab, Google owner Alphabet (GOOGL.O), opens new tab and Microsoft (MSFT.O), opens new tab offering their own AI products.\\n\\nAdvertisement · Scroll to continue [...] Google said earlier this month it had signed agreements with two U.S. electric utilities to reduce its AI data center power consumption during times of surging demand on the grid, as energy-intensive AI use outpaces power supplies.\\n\\nThe new technology has also come under criticism for applications that have let AI bots hold romantic conversations with children, generate false medical information and help people make racist arguments.\", \"raw_content\": null}, {\"url\": \"https://fortune.com/2025/08/14/startup-down-rounds-are-at-a-ten-year-high-according-to-pitchbook-data/\", \"title\": \"Startup down rounds are at a ten-year high, according to PitchBook data - Fortune\", \"score\": 0.6721816, \"published_date\": \"Thu, 14 Aug 2025 10:09:00 GMT\", \"content\": \"- Thread, a New York City-based developer of an AI service desk for managed service providers, raised $8 million in funding. Integr8dCapital and DavidBellini led the round and were joined by Headline, AdamSlutskin, VinceKent, and others.\\n\\n- InfinityLoop, a New York City-based AI-powered contract intelligence platform, raised $5 million in seed funding. GlasswingVentures and TIAAVentures led the round and were joined by PlugandPlay,Restive Ventures, and angel investors. [...] - Protege, a New York City-based developer of data sets designed for AI training, raised $25 million in Series A funding. Footwork led the round and was joined by CRV, BloombergBeta, Flex Capital,Liquid 2 Ventures, ShaperCapital, and others.\\n\\n- Evertune, a New York City-based AI marketing platform, raised $15 million in Series A funding. FelicisVentures led the round and was joined by EniacVentures, NextViewVentures, and angel investors.\", \"raw_content\": null}], \"response_time\": 1.19, \"request_id\": \"74a53e87-d0fa-475a-befe-a3936ff9e44f\"}\n"
     ]
    }
   ],
   "source": [
    "for m in response[\"messages\"]:\n",
    "    m.pretty_print()"
   ]
  },
  {
   "cell_type": "code",
   "execution_count": 18,
   "id": "d784ab61",
   "metadata": {},
   "outputs": [
    {
     "name": "stdout",
     "output_type": "stream",
     "text": [
      "================================\u001b[1m Human Message \u001b[0m=================================\n",
      "\n",
      "what is 12 multiply 3 and add 6 to it\n",
      "==================================\u001b[1m Ai Message \u001b[0m==================================\n",
      "Tool Calls:\n",
      "  multiply (y1ragxn0c)\n",
      " Call ID: y1ragxn0c\n",
      "  Args:\n",
      "    a: 12\n",
      "    b: 3\n",
      "=================================\u001b[1m Tool Message \u001b[0m=================================\n",
      "Name: multiply\n",
      "\n",
      "36\n"
     ]
    }
   ],
   "source": [
    "response=graph.invoke({\"messages\": \"what is 12 multiply 3 and add 6 to it\"})\n",
    "\n",
    "for m in response[\"messages\"]:\n",
    "    m.pretty_print()\n"
   ]
  },
  {
   "cell_type": "code",
   "execution_count": 19,
   "id": "627ecc67",
   "metadata": {},
   "outputs": [
    {
     "data": {
      "image/png": "[encoded data removed]",
      "text/plain": [
       "<IPython.core.display.Image object>"
      ]
     },
     "metadata": {},
     "output_type": "display_data"
    }
   ],
   "source": [
    "from langgraph.graph import StateGraph,START,END\n",
    "from langgraph.prebuilt import ToolNode\n",
    "from langgraph.prebuilt import tools_condition \n",
    "\n",
    "def tool_calling_llm(state:State):\n",
    "    return {\"messages\": [llm_tools.invoke(state['messages'])]}\n",
    "\n",
    "builder = StateGraph(State)\n",
    "builder.add_node(\"tool_calling_llm\",tool_calling_llm)\n",
    "builder.add_node(\"tools\",ToolNode(tools))\n",
    "\n",
    "builder.add_edge(START, \"tool_calling_llm\")\n",
    "builder.add_conditional_edges(\n",
    "    \"tool_calling_llm\",\n",
    "    tools_condition\n",
    ")\n",
    "\n",
    "builder.add_edge(\"tools\",\"tool_calling_llm\")\n",
    "\n",
    "graph = builder.compile()\n",
    "\n",
    "display(Image(graph.get_graph().draw_mermaid_png()))"
   ]
  },
  {
   "cell_type": "markdown",
   "id": "40bb1bef",
   "metadata": {},
   "source": [
    "## Adding Memory\n"
   ]
  },
  {
   "cell_type": "code",
   "execution_count": 28,
   "id": "dad1ee2b",
   "metadata": {},
   "outputs": [
    {
     "data": {
      "image/png": "[encoded data removed]",
      "text/plain": [
       "<IPython.core.display.Image object>"
      ]
     },
     "metadata": {},
     "output_type": "display_data"
    }
   ],
   "source": [
    "from langgraph.graph import StateGraph,START,END\n",
    "from langgraph.prebuilt import ToolNode\n",
    "from langgraph.prebuilt import tools_condition\n",
    "from langgraph.checkpoint.memory import MemorySaver\n",
    "\n",
    "memory= MemorySaver()\n",
    "\n",
    "\n",
    "def tool_calling_llm(state:State):\n",
    "    return {\"messages\": [llm_tools.invoke(state['messages'])]}\n",
    "\n",
    "builder = StateGraph(State)\n",
    "builder.add_node(\"tool_calling_llm\",tool_calling_llm)\n",
    "builder.add_node(\"tools\",ToolNode(tools))\n",
    "\n",
    "builder.add_edge(START, \"tool_calling_llm\")\n",
    "builder.add_conditional_edges(\n",
    "    \"tool_calling_llm\",\n",
    "    tools_condition\n",
    ")\n",
    "\n",
    "builder.add_edge(\"tools\",\"tool_calling_llm\")\n",
    "\n",
    "graph = builder.compile(checkpointer=memory)\n",
    "\n",
    "display(Image(graph.get_graph().draw_mermaid_png()))"
   ]
  },
  {
   "cell_type": "code",
   "execution_count": 34,
   "id": "37f0e40f",
   "metadata": {},
   "outputs": [
    {
     "data": {
      "text/plain": [
       "\"I think I've got a good idea about your furry friend!\""
      ]
     },
     "execution_count": 34,
     "metadata": {},
     "output_type": "execute_result"
    }
   ],
   "source": [
    "config = {\"configurable\":{\"thread_id\":\"1\"}}\n",
    "\n",
    "response = graph.invoke({\"messages\":\"I have a labrador retriever named onyx\"},config=config)\n",
    "\n",
    "response[\"messages\"][-1].content\n",
    "\n",
    "          "
   ]
  },
  {
   "cell_type": "code",
   "execution_count": 37,
   "id": "fcfce9c0",
   "metadata": {},
   "outputs": [
    {
     "data": {
      "text/plain": [
       "'You have a Labrador Retriever named Onyx.'"
      ]
     },
     "execution_count": 37,
     "metadata": {},
     "output_type": "execute_result"
    }
   ],
   "source": [
    "response = graph.invoke({\"messages\":\"What pet do i have\"},config=config)\n",
    "\n",
    "response[\"messages\"][-1].content"
   ]
  }
 ],
 "metadata": {
  "kernelspec": {
   "display_name": "agenticlanggraph",
   "language": "python",
   "name": "python3"
  },
  "language_info": {
   "codemirror_mode": {
    "name": "ipython",
    "version": 3
   },
   "file_extension": ".py",
   "mimetype": "text/x-python",
   "name": "python",
   "nbconvert_exporter": "python",
   "pygments_lexer": "ipython3",
   "version": "3.11.0"
  }
 },
 "nbformat": 4,
 "nbformat_minor": 5
}
